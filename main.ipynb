{
 "cells": [
  {
   "cell_type": "markdown",
   "metadata": {},
   "source": [
    "# Price prediction using MLRP and KNeighborsRegressor neural networks\n",
    "\n",
    "Bitcoin price prediction using custom MLRP and KNeighborsRegressor implementation and data from Cryptomon API (https://api.cryptomon.io/swagger-ui.html).\n",
    "\n",
    "### What is MLRP?\n",
    "\n",
    "A multilayer perceptron (MLP) is a feedforward artificial neural network model that maps sets of input data onto a set of appropriate outputs. An MLP consists of multiple layers of nodes in a directed graph, with each layer fully connected to the next one. Except for the input nodes, each node is a neuron (or processing element) with a nonlinear activation function. MLP utilizes a supervised learning technique called backpropagation for training the network.MLP is a modification of the standard linear perceptron and can distinguish data that are not linearly separable. More info on: https://en.wikipedia.org/wiki/Multilayer_perceptron.\n",
    "\n",
    "### What is KNeighborsRegressor?\n",
    "\n",
    "The k-nearest neighbors (KNN) algorithm is a non-parametric algorithm that can be used for either classification or regression. Non-parametric means that it makes no assumption about the underlying data or its distribution. It is one of the simplest Machine Learning algorithms, and has applications in a variety of fields, ranging from the healthcare industry, to the finance industry. More info on https://en.wikipedia.org/wiki/K-nearest_neighbors_algorithm.\n",
    "\n",
    "### API Credentials\n",
    "\n",
    "To obtain API credentials, follow these instructions:\n",
    "1. Create new Premium Account: https://cryptomon.io/create-account\n",
    "2. API credentials under Account information: https://cryptomon.io/account#api\n"
   ]
  },
  {
   "cell_type": "markdown",
   "metadata": {},
   "source": [
    "### Run Python code\n",
    "\n",
    "To run the code below:\n",
    "\n",
    "1. Click on the cell to select it.\n",
    "2. Press `SHIFT+ENTER` on your keyboard or press the play button (<button class='fa fa-play icon-play btn btn-xs btn-default'></button>) in the toolbar above.\n",
    "\n",
    "A full tutorial for using the notebook interface is available [here](ipython_examples/Notebook/Index.ipynb).\n"
   ]
  },
  {
   "cell_type": "code",
   "execution_count": null,
   "metadata": {
    "collapsed": false
   },
   "outputs": [],
   "source": [
    "%env TZ=UTC\n",
    "# %env TZ=Europe/Bratislava\n",
    "\n",
    "# Cryptomon API credentials\n",
    "%env API_CLIENT_ID=<API_CLIENT_ID>\n",
    "%env API_CLIENT_SECRET=<API_CLIENT_SECRET>\n",
    "\n",
    "%run ./main.py \"K_NEIGHBORS_V1\" \"BITSTAMP\" \"BTC_USD\" \"ONE_HOUR\" \"NOW\" \n",
    "\n"
   ]
  },
  {
   "cell_type": "code",
   "execution_count": null,
   "metadata": {
    "collapsed": true
   },
   "outputs": [],
   "source": [
    "# Let's convert this notebook to a README for the GitHub project's title page:\n",
    "!jupyter nbconvert --to markdown main.ipynb\n",
    "!mv main.md README.md"
   ]
  }
 ],
 "metadata": {
  "kernelspec": {
   "display_name": "Python 3",
   "language": "python",
   "name": "python3"
  },
  "language_info": {
   "codemirror_mode": {
    "name": "ipython",
    "version": 3
   },
   "file_extension": ".py",
   "mimetype": "text/x-python",
   "name": "python",
   "nbconvert_exporter": "python",
   "pygments_lexer": "ipython3",
   "version": "3.4.5"
  }
 },
 "nbformat": 4,
 "nbformat_minor": 2
}
